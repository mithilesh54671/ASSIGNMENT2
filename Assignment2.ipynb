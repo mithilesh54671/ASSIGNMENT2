{
 "cells": [
  {
   "cell_type": "markdown",
   "id": "1d29bd04-7e6a-4aad-9ba0-e69b2df322ca",
   "metadata": {},
   "source": [
    "Q2. What are variables in Python? How do you declare and assign values to variables?"
   ]
  },
  {
   "cell_type": "code",
   "execution_count": 1,
   "id": "7d5f92e2-6f48-4fda-b844-8c2e946aaae2",
   "metadata": {},
   "outputs": [],
   "source": [
    "a = 5"
   ]
  },
  {
   "cell_type": "code",
   "execution_count": 2,
   "id": "e217eaaf-1d60-4e87-8e6f-92bd0e091e50",
   "metadata": {},
   "outputs": [
    {
     "data": {
      "text/plain": [
       "5"
      ]
     },
     "execution_count": 2,
     "metadata": {},
     "output_type": "execute_result"
    }
   ],
   "source": [
    "a"
   ]
  },
  {
   "cell_type": "code",
   "execution_count": 3,
   "id": "7c4f2aed-6ba1-4112-9a74-2895effacbcf",
   "metadata": {},
   "outputs": [
    {
     "data": {
      "text/plain": [
       "int"
      ]
     },
     "execution_count": 3,
     "metadata": {},
     "output_type": "execute_result"
    }
   ],
   "source": [
    "type(a)"
   ]
  },
  {
   "cell_type": "code",
   "execution_count": 4,
   "id": "9ce7a941-bb3a-4078-adf2-325397a6be98",
   "metadata": {},
   "outputs": [],
   "source": [
    "b= \"mithilesh\""
   ]
  },
  {
   "cell_type": "code",
   "execution_count": 5,
   "id": "a3f0b891-96bb-48fb-90a4-ac0bba7e5884",
   "metadata": {},
   "outputs": [
    {
     "data": {
      "text/plain": [
       "'mithilesh'"
      ]
     },
     "execution_count": 5,
     "metadata": {},
     "output_type": "execute_result"
    }
   ],
   "source": [
    "b"
   ]
  },
  {
   "cell_type": "code",
   "execution_count": 6,
   "id": "e9c98a95-098f-4aea-be50-679cb0153e0c",
   "metadata": {},
   "outputs": [
    {
     "data": {
      "text/plain": [
       "str"
      ]
     },
     "execution_count": 6,
     "metadata": {},
     "output_type": "execute_result"
    }
   ],
   "source": [
    "type(b)"
   ]
  },
  {
   "cell_type": "code",
   "execution_count": 7,
   "id": "fa39a2c7-5034-452c-aab6-dbb6f4da7c46",
   "metadata": {},
   "outputs": [],
   "source": [
    "c= 102.23564"
   ]
  },
  {
   "cell_type": "code",
   "execution_count": 8,
   "id": "f2fdadd2-e283-4bea-ab29-2700dff9936a",
   "metadata": {},
   "outputs": [
    {
     "data": {
      "text/plain": [
       "float"
      ]
     },
     "execution_count": 8,
     "metadata": {},
     "output_type": "execute_result"
    }
   ],
   "source": [
    "type(c)"
   ]
  },
  {
   "cell_type": "code",
   "execution_count": 9,
   "id": "6640c711-f332-4231-bf3b-4692c6c0653a",
   "metadata": {},
   "outputs": [],
   "source": [
    "ashu = 12345"
   ]
  },
  {
   "cell_type": "code",
   "execution_count": 11,
   "id": "9ebd9075-2dae-4239-a69e-e63f7e18e2e8",
   "metadata": {},
   "outputs": [
    {
     "data": {
      "text/plain": [
       "12345"
      ]
     },
     "execution_count": 11,
     "metadata": {},
     "output_type": "execute_result"
    }
   ],
   "source": [
    "ashu"
   ]
  },
  {
   "cell_type": "code",
   "execution_count": 12,
   "id": "aeda936d-29ef-4d9b-af03-ef134b2f5f86",
   "metadata": {},
   "outputs": [
    {
     "data": {
      "text/plain": [
       "int"
      ]
     },
     "execution_count": 12,
     "metadata": {},
     "output_type": "execute_result"
    }
   ],
   "source": [
    "type(ashu)"
   ]
  },
  {
   "cell_type": "markdown",
   "id": "788d8dec-3b0e-46b1-a165-5f592b4fab83",
   "metadata": {},
   "source": [
    "Q1. How do you comment code in Python? What are the different types of comments?"
   ]
  },
  {
   "cell_type": "code",
   "execution_count": 13,
   "id": "a96f7aae-c409-490b-ab80-7e41c22e1b6a",
   "metadata": {},
   "outputs": [],
   "source": [
    "###thisis my python is very smart and easly program and smart is good and esaly language###"
   ]
  },
  {
   "cell_type": "markdown",
   "id": "d911ea85-4cf9-49e6-99a1-7fe0052044f8",
   "metadata": {},
   "source": [
    "Q5. Given a list my_list = [1, 2, 3, 4, 5], write the code to slice the list and obtain the sub-list [2, 3]."
   ]
  },
  {
   "cell_type": "code",
   "execution_count": 19,
   "id": "95ded4a5-9269-4d15-96ab-93bf884f2c04",
   "metadata": {},
   "outputs": [
    {
     "data": {
      "text/plain": [
       "[2, 3]"
      ]
     },
     "execution_count": 19,
     "metadata": {},
     "output_type": "execute_result"
    }
   ],
   "source": [
    "my_list = [1,2,3,4,5]\n",
    "l_new= my_list[1:3:1]\n",
    "l_new"
   ]
  },
  {
   "cell_type": "markdown",
   "id": "b3159117-dead-48de-9f3b-2808aed311f1",
   "metadata": {},
   "source": [
    "Q4. How do you write and execute a Python script from the command line?"
   ]
  },
  {
   "cell_type": "markdown",
   "id": "67ca17dc-3b20-41f3-ac75-1778a73b5241",
   "metadata": {},
   "source": [
    "Answer:  python script command line (shift+enter)\n",
    "and (control+enter)"
   ]
  },
  {
   "cell_type": "markdown",
   "id": "72db430b-fea0-4766-9e13-40f93484a2e0",
   "metadata": {},
   "source": [
    "Q3. How do you convert one data type to another in Python?"
   ]
  },
  {
   "cell_type": "code",
   "execution_count": 20,
   "id": "cbd5b468-8ddf-40a5-8f3d-c1716592f602",
   "metadata": {},
   "outputs": [
    {
     "data": {
      "text/plain": [
       "5"
      ]
     },
     "execution_count": 20,
     "metadata": {},
     "output_type": "execute_result"
    }
   ],
   "source": [
    "int(5.00)"
   ]
  },
  {
   "cell_type": "markdown",
   "id": "ad1ce0d4-bf16-4277-b38d-e515fc4089a4",
   "metadata": {},
   "source": [
    "Q6. What is a complex number in mathematics, and how is it represented in Python?"
   ]
  },
  {
   "cell_type": "code",
   "execution_count": 18,
   "id": "8b692b0f-d345-4dce-ae5b-9efed91e3a42",
   "metadata": {},
   "outputs": [],
   "source": [
    "c= (5+6j)"
   ]
  },
  {
   "cell_type": "markdown",
   "id": "310ec102-1803-4c40-be15-50deba6c8fa5",
   "metadata": {},
   "source": [
    "Q7. What is the correct way to declare a variable named age and assign the value 25 to it?"
   ]
  },
  {
   "cell_type": "code",
   "execution_count": 22,
   "id": "f8b146f2-27e1-44fa-adc6-9eb46ae01fc1",
   "metadata": {},
   "outputs": [],
   "source": [
    "i =25"
   ]
  },
  {
   "cell_type": "code",
   "execution_count": 23,
   "id": "9a989f70-5931-4ce1-abf0-a3280fa95e42",
   "metadata": {},
   "outputs": [
    {
     "data": {
      "text/plain": [
       "True"
      ]
     },
     "execution_count": 23,
     "metadata": {},
     "output_type": "execute_result"
    }
   ],
   "source": [
    "int(i)==25"
   ]
  },
  {
   "cell_type": "markdown",
   "id": "71ec6f0c-2549-49f5-a0b8-663faae99671",
   "metadata": {},
   "source": [
    "Q8. Declare a variable named price and assign the value 9.99 to it. What data type does this variable\n",
    "belong to?"
   ]
  },
  {
   "cell_type": "code",
   "execution_count": 17,
   "id": "2cce9a45-f28c-4ac7-9f89-05277eb78ef7",
   "metadata": {},
   "outputs": [],
   "source": [
    "price= 9.99"
   ]
  },
  {
   "cell_type": "markdown",
   "id": "a73031d6-e308-4d25-b4c0-e730866d1e76",
   "metadata": {},
   "source": [
    "Q9. Create a variable named name and assign your full name to it as a string. How would you print the\n",
    "value of this variable?"
   ]
  },
  {
   "cell_type": "code",
   "execution_count": 16,
   "id": "bab267e9-bf7c-4124-8cdf-fefd9c773ec3",
   "metadata": {},
   "outputs": [
    {
     "name": "stdout",
     "output_type": "stream",
     "text": [
      "mithilesh\n"
     ]
    }
   ],
   "source": [
    "name = \"mithilesh\"\n",
    "print(name)"
   ]
  },
  {
   "cell_type": "markdown",
   "id": "8850f0fb-886b-4ffc-8d1d-a80cde01d044",
   "metadata": {},
   "source": [
    "Q10. Given the string \"Hello, World!\", extract the substring \"World\"."
   ]
  },
  {
   "cell_type": "code",
   "execution_count": 4,
   "id": "597b2177-d4f8-4e60-8b75-fe0c8d625225",
   "metadata": {},
   "outputs": [],
   "source": [
    "b = \"hello, world\""
   ]
  },
  {
   "cell_type": "code",
   "execution_count": 12,
   "id": "26ac67dd-7fae-430f-a566-5e4a60832ded",
   "metadata": {},
   "outputs": [
    {
     "name": "stdout",
     "output_type": "stream",
     "text": [
      "world\n"
     ]
    }
   ],
   "source": [
    "print(b[-5:])"
   ]
  },
  {
   "cell_type": "markdown",
   "id": "40352db6-2690-4f02-9882-37c9ebabb043",
   "metadata": {},
   "source": [
    "Q11. Create a variable named \"is_student\" and assign it a boolean value indicating whether you are\n",
    "currently a student or not."
   ]
  },
  {
   "cell_type": "code",
   "execution_count": 15,
   "id": "7d7516ba-0591-446b-8c12-2ea5f218fbed",
   "metadata": {},
   "outputs": [
    {
     "name": "stdout",
     "output_type": "stream",
     "text": [
      "True\n"
     ]
    }
   ],
   "source": [
    "is_student=True\n",
    "print(is_student)"
   ]
  },
  {
   "cell_type": "code",
   "execution_count": null,
   "id": "3ee7225d-a049-4d29-9ca8-007cd5552d37",
   "metadata": {},
   "outputs": [],
   "source": []
  }
 ],
 "metadata": {
  "kernelspec": {
   "display_name": "Python 3 (ipykernel)",
   "language": "python",
   "name": "python3"
  },
  "language_info": {
   "codemirror_mode": {
    "name": "ipython",
    "version": 3
   },
   "file_extension": ".py",
   "mimetype": "text/x-python",
   "name": "python",
   "nbconvert_exporter": "python",
   "pygments_lexer": "ipython3",
   "version": "3.10.8"
  }
 },
 "nbformat": 4,
 "nbformat_minor": 5
}
